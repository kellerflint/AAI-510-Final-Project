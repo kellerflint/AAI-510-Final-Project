{
 "cells": [
  {
   "cell_type": "code",
   "execution_count": 1,
   "metadata": {},
   "outputs": [],
   "source": [
    "import pandas as pd\n",
    "import matplotlib.pyplot as plt\n",
    "import seaborn as sns\n",
    "\n",
    "pd.set_option('display.max_rows', 500)\n",
    "\n",
    "k2_df = pd.read_csv('data/K2_2024.06.06_20.23.11.csv', comment='#')\n",
    "kep_df = pd.read_csv('data/KOI_2024.06.06_20.22.41.csv', comment='#')"
   ]
  },
  {
   "cell_type": "code",
   "execution_count": 2,
   "metadata": {},
   "outputs": [
    {
     "name": "stdout",
     "output_type": "stream",
     "text": [
      "(3839, 16)\n",
      "disposition\n",
      "CONFIRMED         2156\n",
      "CANDIDATE         1372\n",
      "FALSE POSITIVE     293\n",
      "REFUTED             18\n",
      "Name: count, dtype: int64\n"
     ]
    }
   ],
   "source": [
    "print(k2_df.shape)\n",
    "print(k2_df['disposition'].value_counts())"
   ]
  },
  {
   "cell_type": "code",
   "execution_count": 3,
   "metadata": {},
   "outputs": [
    {
     "name": "stdout",
     "output_type": "stream",
     "text": [
      "<class 'pandas.core.frame.DataFrame'>\n",
      "RangeIndex: 3839 entries, 0 to 3838\n",
      "Data columns (total 16 columns):\n",
      " #   Column       Non-Null Count  Dtype  \n",
      "---  ------       --------------  -----  \n",
      " 0   pl_name      3839 non-null   object \n",
      " 1   hostname     3839 non-null   object \n",
      " 2   disposition  3839 non-null   object \n",
      " 3   pl_orbper    3800 non-null   float64\n",
      " 4   pl_orbsmax   777 non-null    float64\n",
      " 5   pl_rade      3030 non-null   float64\n",
      " 6   pl_insol     519 non-null    float64\n",
      " 7   pl_eqt       709 non-null    float64\n",
      " 8   pl_trandur   2718 non-null   float64\n",
      " 9   st_teff      2731 non-null   float64\n",
      " 10  st_rad       3715 non-null   float64\n",
      " 11  st_mass      1968 non-null   float64\n",
      " 12  st_met       1568 non-null   float64\n",
      " 13  st_logg      2204 non-null   float64\n",
      " 14  sy_dist      3716 non-null   float64\n",
      " 15  sy_kepmag    3824 non-null   float64\n",
      "dtypes: float64(13), object(3)\n",
      "memory usage: 480.0+ KB\n"
     ]
    }
   ],
   "source": [
    "k2_df.info()"
   ]
  },
  {
   "cell_type": "code",
   "execution_count": 4,
   "metadata": {},
   "outputs": [
    {
     "name": "stdout",
     "output_type": "stream",
     "text": [
      "(9564, 16)\n",
      "koi_disposition\n",
      "FALSE POSITIVE    4839\n",
      "CONFIRMED         2743\n",
      "CANDIDATE         1982\n",
      "Name: count, dtype: int64\n"
     ]
    }
   ],
   "source": [
    "print(kep_df.shape)\n",
    "print(kep_df['koi_disposition'].value_counts())"
   ]
  },
  {
   "cell_type": "code",
   "execution_count": 5,
   "metadata": {},
   "outputs": [
    {
     "name": "stdout",
     "output_type": "stream",
     "text": [
      "<class 'pandas.core.frame.DataFrame'>\n",
      "RangeIndex: 9564 entries, 0 to 9563\n",
      "Data columns (total 16 columns):\n",
      " #   Column           Non-Null Count  Dtype  \n",
      "---  ------           --------------  -----  \n",
      " 0   kepid            9564 non-null   int64  \n",
      " 1   kepoi_name       9564 non-null   object \n",
      " 2   kepler_name      2745 non-null   object \n",
      " 3   koi_disposition  9564 non-null   object \n",
      " 4   koi_period       9564 non-null   float64\n",
      " 5   koi_duration     9564 non-null   float64\n",
      " 6   koi_prad         9201 non-null   float64\n",
      " 7   koi_sma          9201 non-null   float64\n",
      " 8   koi_teq          9201 non-null   float64\n",
      " 9   koi_insol        9243 non-null   float64\n",
      " 10  koi_steff        9201 non-null   float64\n",
      " 11  koi_slogg        9201 non-null   float64\n",
      " 12  koi_smet         9178 non-null   float64\n",
      " 13  koi_srad         9201 non-null   float64\n",
      " 14  koi_smass        9201 non-null   float64\n",
      " 15  koi_kepmag       9563 non-null   float64\n",
      "dtypes: float64(12), int64(1), object(3)\n",
      "memory usage: 1.2+ MB\n"
     ]
    }
   ],
   "source": [
    "kep_df.info()"
   ]
  },
  {
   "cell_type": "code",
   "execution_count": 6,
   "metadata": {},
   "outputs": [],
   "source": [
    "column_mapping = {\n",
    "    #'pl_name': 'kepler_name', # probably not useful\n",
    "    'disposition': 'koi_disposition', # target, status of the object\n",
    "    'pl_orbper': 'koi_period', # orbital period\n",
    "\t'pl_orbsmax': 'koi_sma', # semi-major axis\n",
    "    'pl_rade': 'koi_prad', # planet radius\n",
    "    'pl_trandur': 'koi_duration', # transit duration\n",
    "    'pl_insol': 'koi_insol', # insolation flux\n",
    "    'pl_eqt': 'koi_teq', # equilibrium temperature\n",
    "    'sy_kepmag': 'koi_kepmag', # Kepler magnitude\n",
    "    'st_rad': 'koi_srad', # stellar radius\n",
    "    'st_teff': 'koi_steff', # stellar effective temperature\n",
    "    'st_logg': 'koi_slogg', # stellar surface gravity\n",
    "\t'st_mass': 'koi_smass', # stellar mass\n",
    "\t'st_met': 'koi_smet', # stellar metallicity\n",
    "}\n",
    "\n",
    "new_column_names = {\n",
    "    #'pl_name': 'planet_name',\n",
    "    'disposition': 'status',\n",
    "    'pl_orbper': 'orbital_period',\n",
    "    'pl_orbsmax': 'semi_major_axis',\n",
    "    'pl_rade': 'planet_radius',\n",
    "    'pl_trandur': 'transit_duration',\n",
    "    'pl_insol': 'insolation_flux',\n",
    "    'pl_eqt': 'equilibrium_temperature',\n",
    "    'sy_kepmag': 'kepler_magnitude',\n",
    "    'st_rad': 'stellar_radius',\n",
    "    'st_teff': 'stellar_effective_temperature',\n",
    "    'st_logg': 'stellar_surface_gravity',\n",
    "    'st_mass': 'stellar_mass',\n",
    "    'st_met': 'stellar_metallicity'\n",
    "}"
   ]
  },
  {
   "cell_type": "code",
   "execution_count": 7,
   "metadata": {},
   "outputs": [
    {
     "name": "stdout",
     "output_type": "stream",
     "text": [
      "(3839, 13)\n",
      "  disposition  pl_orbper  pl_orbsmax  pl_rade  pl_trandur  pl_insol  pl_eqt  \\\n",
      "0   CONFIRMED   0.759976         NaN   12.547    0.974735   9668.66  2529.0   \n",
      "1   CANDIDATE   1.152400      0.0125    0.675         NaN   8270.03     NaN   \n",
      "2   CONFIRMED   0.719571         NaN    1.611    1.757522   6635.86  2302.0   \n",
      "\n",
      "   sy_kepmag  st_rad  st_teff  st_logg  st_mass  st_met  \n",
      "0     12.310    1.66   5690.2     4.00      NaN     NaN  \n",
      "1     12.302    1.06   5992.0     4.39     0.99  -0.095  \n",
      "2      9.438    1.26   5910.0     4.27      NaN     NaN  \n",
      "(9564, 13)\n",
      "  koi_disposition  koi_period  koi_sma  koi_prad  koi_duration  koi_insol  \\\n",
      "0       CONFIRMED    9.488036   0.0853      2.26        2.9575      93.59   \n",
      "1       CONFIRMED   54.418383   0.2734      2.83        4.5070       9.11   \n",
      "2       CANDIDATE   19.899140   0.1419     14.60        1.7822      39.30   \n",
      "\n",
      "   koi_teq  koi_kepmag  koi_srad  koi_steff  koi_slogg  koi_smass  koi_smet  \n",
      "0    793.0      15.347     0.927     5455.0      4.467      0.919      0.14  \n",
      "1    443.0      15.347     0.927     5455.0      4.467      0.919      0.14  \n",
      "2    638.0      15.436     0.868     5853.0      4.544      0.961     -0.18  \n",
      "(13403, 13)\n",
      "      status  orbital_period  semi_major_axis  planet_radius  \\\n",
      "0  CONFIRMED        0.759976              NaN         12.547   \n",
      "1  CANDIDATE        1.152400           0.0125          0.675   \n",
      "2  CONFIRMED        0.719571              NaN          1.611   \n",
      "\n",
      "   transit_duration  insolation_flux  equilibrium_temperature  \\\n",
      "0          0.974735          9668.66                   2529.0   \n",
      "1               NaN          8270.03                      NaN   \n",
      "2          1.757522          6635.86                   2302.0   \n",
      "\n",
      "   kepler_magnitude  stellar_radius  stellar_effective_temperature  \\\n",
      "0            12.310            1.66                         5690.2   \n",
      "1            12.302            1.06                         5992.0   \n",
      "2             9.438            1.26                         5910.0   \n",
      "\n",
      "   stellar_surface_gravity  stellar_mass  stellar_metallicity  \n",
      "0                     4.00           NaN                  NaN  \n",
      "1                     4.39          0.99               -0.095  \n",
      "2                     4.27           NaN                  NaN  \n"
     ]
    }
   ],
   "source": [
    "# columns from k2_df\n",
    "k2_columns = list(column_mapping.keys())\n",
    "k2_df_selected = k2_df[k2_columns]\n",
    "print(k2_df_selected.shape)\n",
    "print(k2_df_selected.head(3))\n",
    "\n",
    "# columns from kep_df\n",
    "kep_columns = list(column_mapping.values())\n",
    "kep_df_selected = kep_df[kep_columns]\n",
    "print(kep_df_selected.shape)\n",
    "print(kep_df_selected.head(3))\n",
    "\n",
    "kep_df_selected.columns = k2_df_selected.columns\n",
    "\n",
    "combined_df = pd.concat([k2_df_selected, kep_df_selected], axis=0, ignore_index=True)\n",
    "combined_df = combined_df.rename(columns=new_column_names)\n",
    "print(combined_df.shape)\n",
    "print(combined_df.head(3))"
   ]
  },
  {
   "cell_type": "markdown",
   "metadata": {},
   "source": [
    "todo"
   ]
  },
  {
   "cell_type": "code",
   "execution_count": 8,
   "metadata": {},
   "outputs": [
    {
     "name": "stdout",
     "output_type": "stream",
     "text": [
      "status\n",
      "FALSE POSITIVE    5132\n",
      "CONFIRMED         4899\n",
      "CANDIDATE         3354\n",
      "REFUTED             18\n",
      "Name: count, dtype: int64\n"
     ]
    }
   ],
   "source": [
    "disposition_counts = combined_df['status'].value_counts()\n",
    "print(disposition_counts)"
   ]
  },
  {
   "cell_type": "code",
   "execution_count": 9,
   "metadata": {},
   "outputs": [
    {
     "name": "stdout",
     "output_type": "stream",
     "text": [
      "status\n",
      "0    5150\n",
      "1    4899\n",
      "Name: count, dtype: int64\n"
     ]
    },
    {
     "name": "stderr",
     "output_type": "stream",
     "text": [
      "C:\\Users\\Ethan\\AppData\\Local\\Temp\\ipykernel_23072\\244264496.py:2: FutureWarning: Downcasting behavior in `replace` is deprecated and will be removed in a future version. To retain the old behavior, explicitly call `result.infer_objects(copy=False)`. To opt-in to the future behavior, set `pd.set_option('future.no_silent_downcasting', True)`\n",
      "  df['status'] = df['status'].replace({'FALSE POSITIVE': 0, 'REFUTED': 0, 'CONFIRMED': 1})\n",
      "C:\\Users\\Ethan\\AppData\\Local\\Temp\\ipykernel_23072\\244264496.py:2: SettingWithCopyWarning: \n",
      "A value is trying to be set on a copy of a slice from a DataFrame.\n",
      "Try using .loc[row_indexer,col_indexer] = value instead\n",
      "\n",
      "See the caveats in the documentation: https://pandas.pydata.org/pandas-docs/stable/user_guide/indexing.html#returning-a-view-versus-a-copy\n",
      "  df['status'] = df['status'].replace({'FALSE POSITIVE': 0, 'REFUTED': 0, 'CONFIRMED': 1})\n"
     ]
    }
   ],
   "source": [
    "df = combined_df[combined_df['status'] != 'CANDIDATE']\n",
    "df['status'] = df['status'].replace({'FALSE POSITIVE': 0, 'REFUTED': 0, 'CONFIRMED': 1})\n",
    "\n",
    "disposition_counts = df['status'].value_counts()\n",
    "print(disposition_counts)"
   ]
  },
  {
   "cell_type": "code",
   "execution_count": 10,
   "metadata": {},
   "outputs": [
    {
     "name": "stdout",
     "output_type": "stream",
     "text": [
      "status                              0\n",
      "orbital_period                     19\n",
      "semi_major_axis                  1981\n",
      "planet_radius                     800\n",
      "transit_duration                  916\n",
      "insolation_flux                  2219\n",
      "equilibrium_temperature          2100\n",
      "kepler_magnitude                    8\n",
      "stellar_radius                    353\n",
      "stellar_effective_temperature     784\n",
      "stellar_surface_gravity          1131\n",
      "stellar_mass                     1128\n",
      "stellar_metallicity              1517\n",
      "dtype: int64\n"
     ]
    }
   ],
   "source": [
    "# count null values\n",
    "null_counts = df.isnull().sum()\n",
    "print(null_counts)"
   ]
  },
  {
   "cell_type": "code",
   "execution_count": 11,
   "metadata": {},
   "outputs": [
    {
     "name": "stdout",
     "output_type": "stream",
     "text": [
      "status\n",
      "0    4561\n",
      "1    2825\n",
      "Name: count, dtype: int64\n"
     ]
    }
   ],
   "source": [
    "# drop rows with null values\n",
    "df = df.dropna()\n",
    "\n",
    "disposition_counts = df['status'].value_counts()\n",
    "print(disposition_counts)"
   ]
  },
  {
   "cell_type": "code",
   "execution_count": 12,
   "metadata": {},
   "outputs": [
    {
     "name": "stdout",
     "output_type": "stream",
     "text": [
      "<class 'pandas.core.frame.DataFrame'>\n",
      "Index: 7386 entries, 8 to 13402\n",
      "Data columns (total 13 columns):\n",
      " #   Column                         Non-Null Count  Dtype  \n",
      "---  ------                         --------------  -----  \n",
      " 0   status                         7386 non-null   int64  \n",
      " 1   orbital_period                 7386 non-null   float64\n",
      " 2   semi_major_axis                7386 non-null   float64\n",
      " 3   planet_radius                  7386 non-null   float64\n",
      " 4   transit_duration               7386 non-null   float64\n",
      " 5   insolation_flux                7386 non-null   float64\n",
      " 6   equilibrium_temperature        7386 non-null   float64\n",
      " 7   kepler_magnitude               7386 non-null   float64\n",
      " 8   stellar_radius                 7386 non-null   float64\n",
      " 9   stellar_effective_temperature  7386 non-null   float64\n",
      " 10  stellar_surface_gravity        7386 non-null   float64\n",
      " 11  stellar_mass                   7386 non-null   float64\n",
      " 12  stellar_metallicity            7386 non-null   float64\n",
      "dtypes: float64(12), int64(1)\n",
      "memory usage: 807.8 KB\n"
     ]
    }
   ],
   "source": [
    "df.info()"
   ]
  },
  {
   "cell_type": "code",
   "execution_count": 13,
   "metadata": {},
   "outputs": [],
   "source": [
    "# saving the dataframe\n",
    "df.to_csv('final_data.csv',index=False)\n"
   ]
  },
  {
   "cell_type": "code",
   "execution_count": 14,
   "metadata": {},
   "outputs": [
    {
     "data": {
      "text/html": [
       "<div>\n",
       "<style scoped>\n",
       "    .dataframe tbody tr th:only-of-type {\n",
       "        vertical-align: middle;\n",
       "    }\n",
       "\n",
       "    .dataframe tbody tr th {\n",
       "        vertical-align: top;\n",
       "    }\n",
       "\n",
       "    .dataframe thead th {\n",
       "        text-align: right;\n",
       "    }\n",
       "</style>\n",
       "<table border=\"1\" class=\"dataframe\">\n",
       "  <thead>\n",
       "    <tr style=\"text-align: right;\">\n",
       "      <th></th>\n",
       "      <th>status</th>\n",
       "      <th>orbital_period</th>\n",
       "      <th>semi_major_axis</th>\n",
       "      <th>planet_radius</th>\n",
       "      <th>transit_duration</th>\n",
       "      <th>insolation_flux</th>\n",
       "      <th>equilibrium_temperature</th>\n",
       "      <th>kepler_magnitude</th>\n",
       "      <th>stellar_radius</th>\n",
       "      <th>stellar_effective_temperature</th>\n",
       "      <th>stellar_surface_gravity</th>\n",
       "      <th>stellar_mass</th>\n",
       "      <th>stellar_metallicity</th>\n",
       "    </tr>\n",
       "  </thead>\n",
       "  <tbody>\n",
       "    <tr>\n",
       "      <th>8</th>\n",
       "      <td>1</td>\n",
       "      <td>0.571336</td>\n",
       "      <td>0.01312</td>\n",
       "      <td>1.820</td>\n",
       "      <td>1.79000</td>\n",
       "      <td>4293.0</td>\n",
       "      <td>2063.0</td>\n",
       "      <td>11.958</td>\n",
       "      <td>0.95</td>\n",
       "      <td>5496.0</td>\n",
       "      <td>4.42</td>\n",
       "      <td>0.92</td>\n",
       "      <td>0.060</td>\n",
       "    </tr>\n",
       "    <tr>\n",
       "      <th>22</th>\n",
       "      <td>1</td>\n",
       "      <td>2.180535</td>\n",
       "      <td>0.03558</td>\n",
       "      <td>16.197</td>\n",
       "      <td>2.92780</td>\n",
       "      <td>1860.0</td>\n",
       "      <td>1828.0</td>\n",
       "      <td>11.468</td>\n",
       "      <td>1.26</td>\n",
       "      <td>6360.0</td>\n",
       "      <td>4.34</td>\n",
       "      <td>1.26</td>\n",
       "      <td>0.137</td>\n",
       "    </tr>\n",
       "    <tr>\n",
       "      <th>37</th>\n",
       "      <td>1</td>\n",
       "      <td>3.595100</td>\n",
       "      <td>0.04700</td>\n",
       "      <td>1.950</td>\n",
       "      <td>4.33000</td>\n",
       "      <td>1037.0</td>\n",
       "      <td>1616.0</td>\n",
       "      <td>11.364</td>\n",
       "      <td>1.71</td>\n",
       "      <td>5430.0</td>\n",
       "      <td>3.99</td>\n",
       "      <td>1.05</td>\n",
       "      <td>0.200</td>\n",
       "    </tr>\n",
       "    <tr>\n",
       "      <th>39</th>\n",
       "      <td>1</td>\n",
       "      <td>1.673902</td>\n",
       "      <td>0.04220</td>\n",
       "      <td>3.450</td>\n",
       "      <td>1.60560</td>\n",
       "      <td>990.0</td>\n",
       "      <td>1094.0</td>\n",
       "      <td>10.408</td>\n",
       "      <td>1.19</td>\n",
       "      <td>6120.0</td>\n",
       "      <td>4.36</td>\n",
       "      <td>1.18</td>\n",
       "      <td>0.140</td>\n",
       "    </tr>\n",
       "    <tr>\n",
       "      <th>45</th>\n",
       "      <td>1</td>\n",
       "      <td>0.658524</td>\n",
       "      <td>0.01306</td>\n",
       "      <td>3.300</td>\n",
       "      <td>0.33336</td>\n",
       "      <td>879.5</td>\n",
       "      <td>1515.0</td>\n",
       "      <td>11.386</td>\n",
       "      <td>0.70</td>\n",
       "      <td>4285.0</td>\n",
       "      <td>4.58</td>\n",
       "      <td>0.69</td>\n",
       "      <td>-0.120</td>\n",
       "    </tr>\n",
       "  </tbody>\n",
       "</table>\n",
       "</div>"
      ],
      "text/plain": [
       "    status  orbital_period  semi_major_axis  planet_radius  transit_duration  \\\n",
       "8        1        0.571336          0.01312          1.820           1.79000   \n",
       "22       1        2.180535          0.03558         16.197           2.92780   \n",
       "37       1        3.595100          0.04700          1.950           4.33000   \n",
       "39       1        1.673902          0.04220          3.450           1.60560   \n",
       "45       1        0.658524          0.01306          3.300           0.33336   \n",
       "\n",
       "    insolation_flux  equilibrium_temperature  kepler_magnitude  \\\n",
       "8            4293.0                   2063.0            11.958   \n",
       "22           1860.0                   1828.0            11.468   \n",
       "37           1037.0                   1616.0            11.364   \n",
       "39            990.0                   1094.0            10.408   \n",
       "45            879.5                   1515.0            11.386   \n",
       "\n",
       "    stellar_radius  stellar_effective_temperature  stellar_surface_gravity  \\\n",
       "8             0.95                         5496.0                     4.42   \n",
       "22            1.26                         6360.0                     4.34   \n",
       "37            1.71                         5430.0                     3.99   \n",
       "39            1.19                         6120.0                     4.36   \n",
       "45            0.70                         4285.0                     4.58   \n",
       "\n",
       "    stellar_mass  stellar_metallicity  \n",
       "8           0.92                0.060  \n",
       "22          1.26                0.137  \n",
       "37          1.05                0.200  \n",
       "39          1.18                0.140  \n",
       "45          0.69               -0.120  "
      ]
     },
     "execution_count": 14,
     "metadata": {},
     "output_type": "execute_result"
    }
   ],
   "source": [
    "df.head()"
   ]
  }
 ],
 "metadata": {
  "kernelspec": {
   "display_name": "Python 3",
   "language": "python",
   "name": "python3"
  },
  "language_info": {
   "codemirror_mode": {
    "name": "ipython",
    "version": 3
   },
   "file_extension": ".py",
   "mimetype": "text/x-python",
   "name": "python",
   "nbconvert_exporter": "python",
   "pygments_lexer": "ipython3",
   "version": "3.10.11"
  }
 },
 "nbformat": 4,
 "nbformat_minor": 2
}
