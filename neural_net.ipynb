{
 "cells": [
  {
   "cell_type": "markdown",
   "metadata": {},
   "source": [
    "# Neural Network"
   ]
  },
  {
   "cell_type": "code",
   "execution_count": 171,
   "metadata": {},
   "outputs": [],
   "source": [
    "import numpy as np\n",
    "import pandas as pd\n",
    "import torch\n",
    "import torch.nn as nn\n",
    "import torch.optim as optim\n",
    "from sklearn.model_selection import train_test_split\n",
    "from sklearn.calibration import calibration_curve\n",
    "import matplotlib.pyplot as plt\n",
    "\n",
    "pd.set_option('display.max_rows', 500)\n"
   ]
  },
  {
   "cell_type": "markdown",
   "metadata": {},
   "source": [
    "## User Parameters"
   ]
  },
  {
   "cell_type": "code",
   "execution_count": 172,
   "metadata": {},
   "outputs": [],
   "source": [
    "# Define dataset path\n",
    "dataset_path = \"data/final_data.csv\" # Filepath to dataset\n",
    "\n",
    "# Model Parameters\n",
    "use_model = False # Set to True if you want to load a model\n",
    "model_path = \"\" # Filepath to model, if you want to load a model\n",
    "n_hidden = 3 # Number of hidden layers\n",
    "h_nodes = 24 # Number of nodes in the hidden layer\n",
    "\n",
    "# Define training parameters\n",
    "train = True # Set to False if you want to load a model and not train\n",
    "n_epochs = 500 # Number of epochs\n",
    "batch_size = 100 # Batch size for training\n",
    "loss_fn = nn.BCELoss()  # Loss function (binary cross entropy)\n",
    "lr = 0.001 # Learning rate\n",
    "early_stop = 5 # Number of consecutive epochs of no improvement on validation set to stop training\n",
    "test_size = 0.2 # Percentage of data to use for testing, half will be used for validation\n",
    "\n",
    "# Define if you want to use CPU or GPU\n",
    "use_cpu = False\n"
   ]
  },
  {
   "cell_type": "code",
   "execution_count": 173,
   "metadata": {},
   "outputs": [
    {
     "name": "stdout",
     "output_type": "stream",
     "text": [
      "GPU Support Enabled, Using: NVIDIA GeForce RTX 2070 SUPER\n"
     ]
    }
   ],
   "source": [
    "# Check if GPU is available and set device\n",
    "gpu_available = torch.cuda.is_available()\n",
    "if gpu_available and not use_cpu:\n",
    "\tdevice = torch.device(\"cuda:0\")\n",
    "\tprint(f\"GPU Support Enabled, Using: {torch.cuda.get_device_name(0)}\")  # Prints the name of the GPU\n",
    "else:\n",
    "\tdevice = torch.device(\"cpu\")\n",
    "\tprint(\"No GPU available, using CPU\")"
   ]
  },
  {
   "cell_type": "code",
   "execution_count": 174,
   "metadata": {},
   "outputs": [
    {
     "data": {
      "text/html": [
       "<div>\n",
       "<style scoped>\n",
       "    .dataframe tbody tr th:only-of-type {\n",
       "        vertical-align: middle;\n",
       "    }\n",
       "\n",
       "    .dataframe tbody tr th {\n",
       "        vertical-align: top;\n",
       "    }\n",
       "\n",
       "    .dataframe thead th {\n",
       "        text-align: right;\n",
       "    }\n",
       "</style>\n",
       "<table border=\"1\" class=\"dataframe\">\n",
       "  <thead>\n",
       "    <tr style=\"text-align: right;\">\n",
       "      <th></th>\n",
       "      <th>status</th>\n",
       "      <th>orbital_period</th>\n",
       "      <th>transit_duration</th>\n",
       "      <th>equilibrium_temperature</th>\n",
       "      <th>stellar_effective_temperature</th>\n",
       "      <th>planet_radius_log</th>\n",
       "      <th>stellar_pca1</th>\n",
       "      <th>stellar_pca2</th>\n",
       "    </tr>\n",
       "  </thead>\n",
       "  <tbody>\n",
       "    <tr>\n",
       "      <th>0</th>\n",
       "      <td>1</td>\n",
       "      <td>-0.417538</td>\n",
       "      <td>-0.573450</td>\n",
       "      <td>1.018689</td>\n",
       "      <td>-0.257530</td>\n",
       "      <td>-0.627013</td>\n",
       "      <td>-0.284366</td>\n",
       "      <td>0.667557</td>\n",
       "    </tr>\n",
       "    <tr>\n",
       "      <th>1</th>\n",
       "      <td>1</td>\n",
       "      <td>-0.403847</td>\n",
       "      <td>-0.406939</td>\n",
       "      <td>0.756108</td>\n",
       "      <td>0.793534</td>\n",
       "      <td>0.676241</td>\n",
       "      <td>0.318626</td>\n",
       "      <td>0.998412</td>\n",
       "    </tr>\n",
       "    <tr>\n",
       "      <th>2</th>\n",
       "      <td>1</td>\n",
       "      <td>-0.391812</td>\n",
       "      <td>-0.201736</td>\n",
       "      <td>0.519226</td>\n",
       "      <td>-0.337820</td>\n",
       "      <td>-0.585880</td>\n",
       "      <td>0.584852</td>\n",
       "      <td>0.866250</td>\n",
       "    </tr>\n",
       "    <tr>\n",
       "      <th>3</th>\n",
       "      <td>1</td>\n",
       "      <td>-0.408157</td>\n",
       "      <td>-0.600436</td>\n",
       "      <td>-0.064041</td>\n",
       "      <td>0.501572</td>\n",
       "      <td>-0.245730</td>\n",
       "      <td>0.190999</td>\n",
       "      <td>0.986024</td>\n",
       "    </tr>\n",
       "    <tr>\n",
       "      <th>4</th>\n",
       "      <td>1</td>\n",
       "      <td>-0.416796</td>\n",
       "      <td>-0.786621</td>\n",
       "      <td>0.406371</td>\n",
       "      <td>-1.730724</td>\n",
       "      <td>-0.272231</td>\n",
       "      <td>-0.854579</td>\n",
       "      <td>0.083679</td>\n",
       "    </tr>\n",
       "  </tbody>\n",
       "</table>\n",
       "</div>"
      ],
      "text/plain": [
       "   status  orbital_period  transit_duration  equilibrium_temperature  \\\n",
       "0       1       -0.417538         -0.573450                 1.018689   \n",
       "1       1       -0.403847         -0.406939                 0.756108   \n",
       "2       1       -0.391812         -0.201736                 0.519226   \n",
       "3       1       -0.408157         -0.600436                -0.064041   \n",
       "4       1       -0.416796         -0.786621                 0.406371   \n",
       "\n",
       "   stellar_effective_temperature  planet_radius_log  stellar_pca1  \\\n",
       "0                      -0.257530          -0.627013     -0.284366   \n",
       "1                       0.793534           0.676241      0.318626   \n",
       "2                      -0.337820          -0.585880      0.584852   \n",
       "3                       0.501572          -0.245730      0.190999   \n",
       "4                      -1.730724          -0.272231     -0.854579   \n",
       "\n",
       "   stellar_pca2  \n",
       "0      0.667557  \n",
       "1      0.998412  \n",
       "2      0.866250  \n",
       "3      0.986024  \n",
       "4      0.083679  "
      ]
     },
     "execution_count": 174,
     "metadata": {},
     "output_type": "execute_result"
    }
   ],
   "source": [
    "df = pd.read_csv(dataset_path)\n",
    "df.head()"
   ]
  },
  {
   "cell_type": "markdown",
   "metadata": {},
   "source": [
    "## Split the data (Train/Test)"
   ]
  },
  {
   "cell_type": "code",
   "execution_count": 175,
   "metadata": {},
   "outputs": [],
   "source": [
    "# Split into train and test\n",
    "train_df, test_df = train_test_split(df, test_size=test_size)\n",
    "test_df, val_df = train_test_split(test_df, test_size=0.5)"
   ]
  },
  {
   "cell_type": "code",
   "execution_count": 176,
   "metadata": {},
   "outputs": [],
   "source": [
    "def prep_data(data):\n",
    "\tx = train_df.drop('status', axis=1)\n",
    "\ty = train_df['status']\n",
    "\n",
    "\t# Convert to numpy arrays\n",
    "\tx = np.array(x, dtype=np.float32)\n",
    "\ty = np.array(y, dtype=np.float32).reshape(-1,1)\n",
    "\n",
    "\t# Convert to tensors\n",
    "\tX = torch.tensor(x, dtype=torch.float32)\n",
    "\tY = torch.tensor(y, dtype=torch.float32)\n",
    "\n",
    "\treturn X, Y"
   ]
  },
  {
   "cell_type": "code",
   "execution_count": 177,
   "metadata": {},
   "outputs": [
    {
     "name": "stdout",
     "output_type": "stream",
     "text": [
      "Input dimensions: 7\n",
      "Output dimensions: 1\n"
     ]
    }
   ],
   "source": [
    "# Prep data\n",
    "X_train, Y_train = prep_data(train_df)\n",
    "X_test, Y_test = prep_data(test_df)\n",
    "X_val, Y_val = prep_data(val_df)\n",
    "\n",
    "print(f\"Input dimensions: {X_train.shape[1]}\")\n",
    "print(f\"Output dimensions: {Y_train.shape[1]}\")"
   ]
  },
  {
   "cell_type": "code",
   "execution_count": 178,
   "metadata": {},
   "outputs": [
    {
     "name": "stdout",
     "output_type": "stream",
     "text": [
      "Sequential(\n",
      "  (input): Linear(in_features=7, out_features=24, bias=True)\n",
      "  (relu_1): ReLU()\n",
      "  (hidden_1): Linear(in_features=24, out_features=24, bias=True)\n",
      "  (relu_2): ReLU()\n",
      "  (dropout_1): Dropout(p=0.1, inplace=False)\n",
      "  (hidden_2): Linear(in_features=24, out_features=24, bias=True)\n",
      "  (relu_3): ReLU()\n",
      "  (dropout_2): Dropout(p=0.1, inplace=False)\n",
      "  (hidden_3): Linear(in_features=24, out_features=24, bias=True)\n",
      "  (relu_4): ReLU()\n",
      "  (dropout_3): Dropout(p=0.1, inplace=False)\n",
      "  (output): Linear(in_features=24, out_features=1, bias=True)\n",
      "  (sigmoid): Sigmoid()\n",
      ")\n"
     ]
    }
   ],
   "source": [
    "# Creating/Loading the model\n",
    "if use_model:\n",
    "    model = torch.load(model_path)\n",
    "else:\n",
    "    model = nn.Sequential()\n",
    "    model.add_module(\"input\", nn.Linear(X_train.shape[1], h_nodes))\n",
    "    model.add_module(\"relu_1\", nn.ReLU())\n",
    "    for h in range(0, n_hidden):\n",
    "        model.add_module(f\"hidden_{h+1}\", nn.Linear(h_nodes, h_nodes))\n",
    "        model.add_module(f\"relu_{h+2}\", nn.ReLU())\n",
    "        model.add_module(f\"dropout_{h+1}\", nn.Dropout(p=0.1))\n",
    "    model.add_module(\"output\", nn.Linear(h_nodes, Y_train.shape[1]))\n",
    "    model.add_module(\"sigmoid\", nn.Sigmoid())\n",
    "print(model)"
   ]
  },
  {
   "cell_type": "code",
   "execution_count": 179,
   "metadata": {},
   "outputs": [],
   "source": [
    "# Define optimizer\n",
    "optimizer = optim.Adam(model.parameters(), lr=lr, weight_decay=1e-5)"
   ]
  },
  {
   "cell_type": "code",
   "execution_count": 180,
   "metadata": {},
   "outputs": [
    {
     "name": "stdout",
     "output_type": "stream",
     "text": [
      "Transferring model to GPU: NVIDIA GeForce RTX 2070 SUPER\n"
     ]
    }
   ],
   "source": [
    "# Transfer model to GPU if available\n",
    "if gpu_available and not use_cpu:\n",
    "\tprint(f\"Transferring model to GPU: {torch.cuda.get_device_name(0)}\")\n",
    "\tmodel = model.cuda()\n",
    "\tloss_fn = loss_fn.cuda()\n",
    "\n",
    "\t# Transfer validation data to GPU\n",
    "\tX_val = X_val.cuda()\n",
    "\tY_val = Y_val.cuda()"
   ]
  },
  {
   "cell_type": "markdown",
   "metadata": {},
   "source": [
    "## Training\n",
    "Now that the data and the network is set up, lets train the model! After training the model will be saved to a file so that you don't have to train it again if you want to use it for predictions in the future."
   ]
  },
  {
   "cell_type": "code",
   "execution_count": 181,
   "metadata": {},
   "outputs": [],
   "source": [
    "def accuracy(Y_pred, Y):\n",
    "\tY_pred = torch.round(Y_pred)\n",
    "\treturn (Y_pred == Y).sum().float() / len(Y_pred)"
   ]
  },
  {
   "cell_type": "code",
   "execution_count": 182,
   "metadata": {},
   "outputs": [
    {
     "name": "stdout",
     "output_type": "stream",
     "text": [
      "Finished epoch 0, latest loss 0.404746413230896 val_loss 0.49008306860923767\n",
      "Finished epoch 1, latest loss 0.2940398156642914 val_loss 0.3909130096435547\n",
      "Finished epoch 2, latest loss 0.19225433468818665 val_loss 0.34921795129776\n",
      "Finished epoch 3, latest loss 0.1282138228416443 val_loss 0.32150039076805115\n",
      "Finished epoch 4, latest loss 0.12454673647880554 val_loss 0.2996266186237335\n",
      "Finished epoch 5, latest loss 0.09751325100660324 val_loss 0.29115399718284607\n",
      "Finished epoch 6, latest loss 0.1155383288860321 val_loss 0.2796024978160858\n",
      "Finished epoch 7, latest loss 0.10860306024551392 val_loss 0.27281200885772705\n",
      "Finished epoch 8, latest loss 0.09778986871242523 val_loss 0.26694777607917786\n",
      "Finished epoch 9, latest loss 0.1073063313961029 val_loss 0.26760509610176086\n",
      "Finished epoch 10, latest loss 0.08236841857433319 val_loss 0.2625682055950165\n",
      "Finished epoch 11, latest loss 0.16405999660491943 val_loss 0.2592960000038147\n",
      "Finished epoch 12, latest loss 0.08415521681308746 val_loss 0.2561081349849701\n",
      "Finished epoch 13, latest loss 0.08071205765008926 val_loss 0.2568866014480591\n",
      "Finished epoch 14, latest loss 0.092811718583107 val_loss 0.2546483874320984\n",
      "Finished epoch 15, latest loss 0.07771710306406021 val_loss 0.2527097463607788\n",
      "Finished epoch 16, latest loss 0.10295073688030243 val_loss 0.25227606296539307\n",
      "Finished epoch 17, latest loss 0.07070304453372955 val_loss 0.25161126255989075\n",
      "Finished epoch 18, latest loss 0.1347738355398178 val_loss 0.24554064869880676\n",
      "Finished epoch 19, latest loss 0.08321937918663025 val_loss 0.24678827822208405\n",
      "Finished epoch 20, latest loss 0.10390671342611313 val_loss 0.24833574891090393\n",
      "Finished epoch 21, latest loss 0.09762707352638245 val_loss 0.24757400155067444\n",
      "Finished epoch 22, latest loss 0.08433951437473297 val_loss 0.24522553384304047\n",
      "Finished epoch 23, latest loss 0.10171044617891312 val_loss 0.2405843436717987\n",
      "Finished epoch 24, latest loss 0.09041588008403778 val_loss 0.24078834056854248\n",
      "Finished epoch 25, latest loss 0.08314778655767441 val_loss 0.24456900358200073\n",
      "Finished epoch 26, latest loss 0.07617925107479095 val_loss 0.2382204383611679\n",
      "Finished epoch 27, latest loss 0.08972888439893723 val_loss 0.23678693175315857\n",
      "Finished epoch 28, latest loss 0.08277580142021179 val_loss 0.2410450130701065\n",
      "Finished epoch 29, latest loss 0.09034941345453262 val_loss 0.23833085596561432\n",
      "Finished epoch 30, latest loss 0.080514095723629 val_loss 0.23417142033576965\n",
      "Finished epoch 31, latest loss 0.08007732033729553 val_loss 0.2352796494960785\n",
      "Finished epoch 32, latest loss 0.09040988236665726 val_loss 0.2327198088169098\n",
      "Finished epoch 33, latest loss 0.10071992874145508 val_loss 0.229222372174263\n",
      "Finished epoch 34, latest loss 0.07002250105142593 val_loss 0.23001451790332794\n",
      "Finished epoch 35, latest loss 0.0882534384727478 val_loss 0.2313137948513031\n",
      "Finished epoch 36, latest loss 0.13278451561927795 val_loss 0.2327263355255127\n",
      "Finished epoch 37, latest loss 0.08520212024450302 val_loss 0.22864773869514465\n",
      "Finished epoch 38, latest loss 0.09744448959827423 val_loss 0.22928205132484436\n",
      "Finished epoch 39, latest loss 0.07988641411066055 val_loss 0.2296639382839203\n",
      "Finished epoch 40, latest loss 0.06765047460794449 val_loss 0.2321404367685318\n",
      "Finished epoch 41, latest loss 0.07231519371271133 val_loss 0.2264663726091385\n",
      "Finished epoch 42, latest loss 0.09058241546154022 val_loss 0.22585730254650116\n",
      "Finished epoch 43, latest loss 0.08667923510074615 val_loss 0.22588685154914856\n",
      "Finished epoch 44, latest loss 0.0775865912437439 val_loss 0.22439457476139069\n",
      "Finished epoch 45, latest loss 0.07348562031984329 val_loss 0.22566723823547363\n",
      "Finished epoch 46, latest loss 0.08564911037683487 val_loss 0.22498320043087006\n",
      "Finished epoch 47, latest loss 0.07767138630151749 val_loss 0.22328054904937744\n",
      "Finished epoch 48, latest loss 0.1314927637577057 val_loss 0.2238970249891281\n",
      "Finished epoch 49, latest loss 0.1115122139453888 val_loss 0.22482147812843323\n",
      "Finished epoch 50, latest loss 0.06643865257501602 val_loss 0.22194847464561462\n",
      "Finished epoch 51, latest loss 0.08046974986791611 val_loss 0.22388294339179993\n",
      "Finished epoch 52, latest loss 0.09491840749979019 val_loss 0.21997275948524475\n",
      "Finished epoch 53, latest loss 0.10477939248085022 val_loss 0.22195932269096375\n",
      "Finished epoch 54, latest loss 0.08040998876094818 val_loss 0.220224529504776\n",
      "Finished epoch 55, latest loss 0.09082914888858795 val_loss 0.219294473528862\n",
      "Finished epoch 56, latest loss 0.0722731277346611 val_loss 0.22091348469257355\n",
      "Finished epoch 57, latest loss 0.09078527241945267 val_loss 0.21904240548610687\n",
      "Finished epoch 58, latest loss 0.0827498808503151 val_loss 0.21991883218288422\n",
      "Finished epoch 59, latest loss 0.07216408848762512 val_loss 0.2159019261598587\n",
      "Finished epoch 60, latest loss 0.06919882446527481 val_loss 0.21389366686344147\n",
      "Finished epoch 61, latest loss 0.08336915820837021 val_loss 0.2139853835105896\n",
      "Finished epoch 62, latest loss 0.0931006446480751 val_loss 0.2149941623210907\n",
      "Finished epoch 63, latest loss 0.0692548006772995 val_loss 0.217097669839859\n",
      "Finished epoch 64, latest loss 0.08566366136074066 val_loss 0.21118217706680298\n",
      "Finished epoch 65, latest loss 0.08908724039793015 val_loss 0.21477378904819489\n",
      "Finished epoch 66, latest loss 0.08165621012449265 val_loss 0.21251845359802246\n",
      "Finished epoch 67, latest loss 0.08124089241027832 val_loss 0.21523702144622803\n",
      "Finished epoch 68, latest loss 0.0688195452094078 val_loss 0.21315456926822662\n",
      "Finished epoch 69, latest loss 0.09521809220314026 val_loss 0.21392317116260529\n",
      "Finished epoch 70, latest loss 0.08395935595035553 val_loss 0.21407124400138855\n",
      "Finished epoch 71, latest loss 0.12275098264217377 val_loss 0.21020017564296722\n",
      "Finished epoch 72, latest loss 0.08483092486858368 val_loss 0.21081486344337463\n",
      "Finished epoch 73, latest loss 0.07794787734746933 val_loss 0.20814302563667297\n",
      "Finished epoch 74, latest loss 0.09410795569419861 val_loss 0.21273884177207947\n",
      "Finished epoch 75, latest loss 0.08533306419849396 val_loss 0.21033404767513275\n",
      "Finished epoch 76, latest loss 0.0700751394033432 val_loss 0.2058691382408142\n",
      "Finished epoch 77, latest loss 0.11067767441272736 val_loss 0.20830529928207397\n",
      "Finished epoch 78, latest loss 0.0749257504940033 val_loss 0.2082284539937973\n",
      "Finished epoch 79, latest loss 0.06991209834814072 val_loss 0.20865680277347565\n",
      "Finished epoch 80, latest loss 0.11075139790773392 val_loss 0.20801830291748047\n",
      "Finished epoch 81, latest loss 0.06853172928094864 val_loss 0.21050116419792175\n",
      "Finished epoch 82, latest loss 0.08029480278491974 val_loss 0.2049613744020462\n",
      "Finished epoch 83, latest loss 0.07541345804929733 val_loss 0.20662711560726166\n",
      "Finished epoch 84, latest loss 0.062413230538368225 val_loss 0.20442210137844086\n",
      "Finished epoch 85, latest loss 0.07584577798843384 val_loss 0.20293238759040833\n",
      "Finished epoch 86, latest loss 0.0728621855378151 val_loss 0.20681801438331604\n",
      "Finished epoch 87, latest loss 0.09520217776298523 val_loss 0.20336392521858215\n",
      "Finished epoch 88, latest loss 0.13266338407993317 val_loss 0.20736122131347656\n",
      "Finished epoch 89, latest loss 0.06385408341884613 val_loss 0.20711545646190643\n",
      "Finished epoch 90, latest loss 0.1022782251238823 val_loss 0.2055564820766449\n",
      "Finished epoch 91, latest loss 0.0798511803150177 val_loss 0.2021699696779251\n",
      "Finished epoch 92, latest loss 0.09930594265460968 val_loss 0.202840194106102\n",
      "Finished epoch 93, latest loss 0.06375528872013092 val_loss 0.20166577398777008\n",
      "Finished epoch 94, latest loss 0.0693514496088028 val_loss 0.20602430403232574\n",
      "Finished epoch 95, latest loss 0.07010645419359207 val_loss 0.20239034295082092\n",
      "Finished epoch 96, latest loss 0.06783856451511383 val_loss 0.2030046582221985\n",
      "Finished epoch 97, latest loss 0.054125815629959106 val_loss 0.20298723876476288\n",
      "Finished epoch 98, latest loss 0.07825391739606857 val_loss 0.20004935562610626\n",
      "Finished epoch 99, latest loss 0.07360591739416122 val_loss 0.19903580844402313\n"
     ]
    }
   ],
   "source": [
    "# Train the model\n",
    "losses = []\n",
    "v_losses = []\n",
    "if train:\n",
    "    for epoch in range(n_epochs):\n",
    "        for i in range(0, len(X_train), batch_size):\n",
    "            # Get batch\n",
    "            X_batch = X_train[i:i+batch_size]\n",
    "            Y_batch = Y_train[i:i+batch_size]\n",
    "\n",
    "            # Transfer to GPU if available\n",
    "            if gpu_available and not use_cpu:\n",
    "                X_batch = X_batch.cuda()\n",
    "                Y_batch = Y_batch.cuda()\n",
    "\n",
    "            # Feedforward\n",
    "            Y_pred = model(X_batch)\n",
    "\n",
    "            # Calculate loss\n",
    "            loss = loss_fn(Y_pred, Y_batch)\n",
    "\n",
    "            # Backpropagate error and update weights\n",
    "            optimizer.zero_grad()\n",
    "            loss.backward()\n",
    "            optimizer.step()\n",
    "\n",
    "        # Check validation loss\n",
    "        Y_pred = model(X_val)\n",
    "        with torch.no_grad():\n",
    "            val_loss = loss_fn(Y_pred, Y_val)\n",
    "\n",
    "            # Save loss\n",
    "            losses = losses + [loss.item()]\n",
    "            v_losses = v_losses + [val_loss.item()]\n",
    "\n",
    "        # Early stopping\n",
    "        if len(v_losses) >= early_stop+1:\n",
    "            # Check if validation loss hasn't improved for 'early_stop' epochs\n",
    "            stop = [False]*early_stop\n",
    "            for i in range(early_stop):\n",
    "                if v_losses[-1-i] >= v_losses[-2-i]:\n",
    "                    stop[i] = True\n",
    "\n",
    "            if all(stop):\n",
    "                print(f\"Early stopping at epoch {epoch}\")\n",
    "                break\n",
    "\n",
    "        # Print loss after each epoch\n",
    "        print(f'Finished epoch {epoch}, latest loss {loss} val_loss {val_loss}')\n"
   ]
  },
  {
   "cell_type": "code",
   "execution_count": 183,
   "metadata": {},
   "outputs": [
    {
     "data": {
      "image/png": "[encoded data removed]",
      "text/plain": [
       "<Figure size 640x480 with 1 Axes>"
      ]
     },
     "metadata": {},
     "output_type": "display_data"
    }
   ],
   "source": [
    "# Plot the loss on the training and validation sets\n",
    "plt.figure()\n",
    "plt.title(\"Loss\")\n",
    "plt.xlabel(\"Epoch\")\n",
    "plt.ylabel(\"Loss\")\n",
    "plt.plot(losses)\n",
    "plt.plot(v_losses)\n",
    "plt.legend([\"Training\", \"Validation\"], loc=\"upper right\")\n",
    "plt.show()"
   ]
  },
  {
   "cell_type": "code",
   "execution_count": 184,
   "metadata": {},
   "outputs": [],
   "source": [
    "# Save the model for future use\n",
    "torch.save(model, \"model.pt\")"
   ]
  },
  {
   "cell_type": "markdown",
   "metadata": {},
   "source": [
    "## Analysis (Keller feel free to move this elsewhere/remove. Do what ya gotta do)"
   ]
  },
  {
   "cell_type": "code",
   "execution_count": 185,
   "metadata": {},
   "outputs": [],
   "source": [
    "# Make predictions\n",
    "X_test = X_test.to(device)\n",
    "with torch.no_grad():\n",
    "    # Run the model on the test data and transfer the result to CPU\n",
    "    Y_pred = model(X_test).to(\"cpu\")"
   ]
  },
  {
   "cell_type": "code",
   "execution_count": 186,
   "metadata": {},
   "outputs": [
    {
     "name": "stdout",
     "output_type": "stream",
     "text": [
      "Accuracy 0.9209546446800232\n"
     ]
    }
   ],
   "source": [
    "# Calculate the accuracy\n",
    "accuracy = (Y_pred.round() == Y_test).float().mean()\n",
    "print(f\"Accuracy {accuracy}\")"
   ]
  },
  {
   "cell_type": "code",
   "execution_count": 187,
   "metadata": {},
   "outputs": [
    {
     "data": {
      "image/png": "[encoded data removed]",
      "text/plain": [
       "<Figure size 800x600 with 1 Axes>"
      ]
     },
     "metadata": {},
     "output_type": "display_data"
    }
   ],
   "source": [
    "# Plot the reliability diagram\n",
    "prob_true, prob_pred = calibration_curve(np.array(Y_test), np.array(Y_pred)[:, 0], n_bins=10)\n",
    "\n",
    "plt.figure(figsize=(8, 6))\n",
    "plt.plot(prob_pred, prob_true, 's-', label='Calibration curve')\n",
    "plt.plot([0, 1], [0, 1], color='gray', label='Ideal calibration')\n",
    "plt.xlabel('Predicted Probability')\n",
    "plt.ylabel('Fraction of Positives')\n",
    "plt.title('Reliability Diagram')\n",
    "plt.legend()\n",
    "plt.show()"
   ]
  }
 ],
 "metadata": {
  "kernelspec": {
   "display_name": "venv",
   "language": "python",
   "name": "python3"
  },
  "language_info": {
   "codemirror_mode": {
    "name": "ipython",
    "version": 3
   },
   "file_extension": ".py",
   "mimetype": "text/x-python",
   "name": "python",
   "nbconvert_exporter": "python",
   "pygments_lexer": "ipython3",
   "version": "3.10.11"
  }
 },
 "nbformat": 4,
 "nbformat_minor": 2
}
