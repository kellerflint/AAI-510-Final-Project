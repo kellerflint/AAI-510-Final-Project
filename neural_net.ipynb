{
 "cells": [
  {
   "cell_type": "markdown",
   "metadata": {},
   "source": [
    "# Neural Network"
   ]
  },
  {
   "cell_type": "code",
   "execution_count": 137,
   "metadata": {},
   "outputs": [],
   "source": [
    "import numpy as np\n",
    "import pandas as pd\n",
    "import torch\n",
    "import torch.nn as nn\n",
    "import torch.optim as optim\n",
    "from sklearn.model_selection import train_test_split\n",
    "from sklearn.calibration import calibration_curve\n",
    "import matplotlib.pyplot as plt\n",
    "\n",
    "pd.set_option('display.max_rows', 500)\n"
   ]
  },
  {
   "cell_type": "markdown",
   "metadata": {},
   "source": [
    "## User Parameters"
   ]
  },
  {
   "cell_type": "code",
   "execution_count": 138,
   "metadata": {},
   "outputs": [],
   "source": [
    "# Define dataset path\n",
    "dataset_path = \"data/final_data.csv\" # Filepath to dataset\n",
    "\n",
    "# Model Parameters\n",
    "use_model = False # Set to True if you want to load a model\n",
    "model_path = \"\" # Filepath to model, if you want to load a model\n",
    "n_hidden = 3 # Number of hidden layers\n",
    "h_nodes = 24 # Number of nodes in the hidden layer\n",
    "\n",
    "# Define training parameters\n",
    "train = True # Set to False if you want to load a model and not train\n",
    "n_epochs = 100 # Number of epochs\n",
    "batch_size = 10 # Batch size for training\n",
    "loss_fn = nn.BCELoss()  # Loss function (binary cross entropy)\n",
    "lr = 0.001 # Learning rate\n",
    "early_stop = 5 # Number of consecutive epochs of no improvement on validation set to stop training\n",
    "test_size = 0.2 # Percentage of data to use for testing, half will be used for validation\n",
    "\n",
    "# Define if you want to use CPU or GPU\n",
    "use_cpu = False\n"
   ]
  },
  {
   "cell_type": "code",
   "execution_count": 139,
   "metadata": {},
   "outputs": [
    {
     "name": "stdout",
     "output_type": "stream",
     "text": [
      "GPU Support Enabled, Using: NVIDIA GeForce RTX 2070 SUPER\n"
     ]
    }
   ],
   "source": [
    "# Check if GPU is available and set device\n",
    "gpu_available = torch.cuda.is_available()\n",
    "if gpu_available and not use_cpu:\n",
    "\tdevice = torch.device(\"cuda:0\")\n",
    "\tprint(f\"GPU Support Enabled, Using: {torch.cuda.get_device_name(0)}\")  # Prints the name of the GPU\n",
    "else:\n",
    "\tdevice = torch.device(\"cpu\")\n",
    "\tprint(\"No GPU available, using CPU\")"
   ]
  },
  {
   "cell_type": "code",
   "execution_count": 140,
   "metadata": {},
   "outputs": [
    {
     "data": {
      "text/html": [
       "<div>\n",
       "<style scoped>\n",
       "    .dataframe tbody tr th:only-of-type {\n",
       "        vertical-align: middle;\n",
       "    }\n",
       "\n",
       "    .dataframe tbody tr th {\n",
       "        vertical-align: top;\n",
       "    }\n",
       "\n",
       "    .dataframe thead th {\n",
       "        text-align: right;\n",
       "    }\n",
       "</style>\n",
       "<table border=\"1\" class=\"dataframe\">\n",
       "  <thead>\n",
       "    <tr style=\"text-align: right;\">\n",
       "      <th></th>\n",
       "      <th>status</th>\n",
       "      <th>orbital_period</th>\n",
       "      <th>transit_duration</th>\n",
       "      <th>equilibrium_temperature</th>\n",
       "      <th>stellar_effective_temperature</th>\n",
       "      <th>planet_radius_log</th>\n",
       "      <th>stellar_pca1</th>\n",
       "      <th>stellar_pca2</th>\n",
       "    </tr>\n",
       "  </thead>\n",
       "  <tbody>\n",
       "    <tr>\n",
       "      <th>0</th>\n",
       "      <td>1</td>\n",
       "      <td>-0.417538</td>\n",
       "      <td>-0.573450</td>\n",
       "      <td>1.018689</td>\n",
       "      <td>-0.257530</td>\n",
       "      <td>-0.627013</td>\n",
       "      <td>-0.284366</td>\n",
       "      <td>0.667557</td>\n",
       "    </tr>\n",
       "    <tr>\n",
       "      <th>1</th>\n",
       "      <td>1</td>\n",
       "      <td>-0.403847</td>\n",
       "      <td>-0.406939</td>\n",
       "      <td>0.756108</td>\n",
       "      <td>0.793534</td>\n",
       "      <td>0.676241</td>\n",
       "      <td>0.318626</td>\n",
       "      <td>0.998412</td>\n",
       "    </tr>\n",
       "    <tr>\n",
       "      <th>2</th>\n",
       "      <td>1</td>\n",
       "      <td>-0.391812</td>\n",
       "      <td>-0.201736</td>\n",
       "      <td>0.519226</td>\n",
       "      <td>-0.337820</td>\n",
       "      <td>-0.585880</td>\n",
       "      <td>0.584852</td>\n",
       "      <td>0.866250</td>\n",
       "    </tr>\n",
       "    <tr>\n",
       "      <th>3</th>\n",
       "      <td>1</td>\n",
       "      <td>-0.408157</td>\n",
       "      <td>-0.600436</td>\n",
       "      <td>-0.064041</td>\n",
       "      <td>0.501572</td>\n",
       "      <td>-0.245730</td>\n",
       "      <td>0.190999</td>\n",
       "      <td>0.986024</td>\n",
       "    </tr>\n",
       "    <tr>\n",
       "      <th>4</th>\n",
       "      <td>1</td>\n",
       "      <td>-0.416796</td>\n",
       "      <td>-0.786621</td>\n",
       "      <td>0.406371</td>\n",
       "      <td>-1.730724</td>\n",
       "      <td>-0.272231</td>\n",
       "      <td>-0.854579</td>\n",
       "      <td>0.083679</td>\n",
       "    </tr>\n",
       "  </tbody>\n",
       "</table>\n",
       "</div>"
      ],
      "text/plain": [
       "   status  orbital_period  transit_duration  equilibrium_temperature  \\\n",
       "0       1       -0.417538         -0.573450                 1.018689   \n",
       "1       1       -0.403847         -0.406939                 0.756108   \n",
       "2       1       -0.391812         -0.201736                 0.519226   \n",
       "3       1       -0.408157         -0.600436                -0.064041   \n",
       "4       1       -0.416796         -0.786621                 0.406371   \n",
       "\n",
       "   stellar_effective_temperature  planet_radius_log  stellar_pca1  \\\n",
       "0                      -0.257530          -0.627013     -0.284366   \n",
       "1                       0.793534           0.676241      0.318626   \n",
       "2                      -0.337820          -0.585880      0.584852   \n",
       "3                       0.501572          -0.245730      0.190999   \n",
       "4                      -1.730724          -0.272231     -0.854579   \n",
       "\n",
       "   stellar_pca2  \n",
       "0      0.667557  \n",
       "1      0.998412  \n",
       "2      0.866250  \n",
       "3      0.986024  \n",
       "4      0.083679  "
      ]
     },
     "execution_count": 140,
     "metadata": {},
     "output_type": "execute_result"
    }
   ],
   "source": [
    "df = pd.read_csv(dataset_path)\n",
    "df.head()"
   ]
  },
  {
   "cell_type": "markdown",
   "metadata": {},
   "source": [
    "## Split the data (Train/Test)"
   ]
  },
  {
   "cell_type": "code",
   "execution_count": 141,
   "metadata": {},
   "outputs": [],
   "source": [
    "# Split into train and test\n",
    "train_df, test_df = train_test_split(df, test_size=test_size)\n",
    "test_df, val_df = train_test_split(test_df, test_size=0.5)"
   ]
  },
  {
   "cell_type": "code",
   "execution_count": 142,
   "metadata": {},
   "outputs": [],
   "source": [
    "def prep_data(data):\n",
    "\tx = train_df.drop('status', axis=1)\n",
    "\ty = train_df['status']\n",
    "\n",
    "\t# Convert to numpy arrays\n",
    "\tx = np.array(x, dtype=np.float32)\n",
    "\ty = np.array(y, dtype=np.float32).reshape(-1,1)\n",
    "\n",
    "\t# Convert to tensors\n",
    "\tX = torch.tensor(x, dtype=torch.float32)\n",
    "\tY = torch.tensor(y, dtype=torch.float32)\n",
    "\n",
    "\treturn X, Y"
   ]
  },
  {
   "cell_type": "code",
   "execution_count": 143,
   "metadata": {},
   "outputs": [
    {
     "name": "stdout",
     "output_type": "stream",
     "text": [
      "Input dimensions: 7\n",
      "Output dimensions: 1\n"
     ]
    }
   ],
   "source": [
    "# Prep data\n",
    "X_train, Y_train = prep_data(train_df)\n",
    "X_test, Y_test = prep_data(test_df)\n",
    "X_val, Y_val = prep_data(val_df)\n",
    "\n",
    "print(f\"Input dimensions: {X_train.shape[1]}\")\n",
    "print(f\"Output dimensions: {Y_train.shape[1]}\")"
   ]
  },
  {
   "cell_type": "code",
   "execution_count": 144,
   "metadata": {},
   "outputs": [
    {
     "name": "stdout",
     "output_type": "stream",
     "text": [
      "Sequential(\n",
      "  (input): Linear(in_features=7, out_features=24, bias=True)\n",
      "  (relu_1): ReLU()\n",
      "  (hidden_1): Linear(in_features=24, out_features=24, bias=True)\n",
      "  (relu_2): ReLU()\n",
      "  (dropout_1): Dropout(p=0.1, inplace=False)\n",
      "  (hidden_2): Linear(in_features=24, out_features=24, bias=True)\n",
      "  (relu_3): ReLU()\n",
      "  (dropout_2): Dropout(p=0.1, inplace=False)\n",
      "  (hidden_3): Linear(in_features=24, out_features=24, bias=True)\n",
      "  (relu_4): ReLU()\n",
      "  (dropout_3): Dropout(p=0.1, inplace=False)\n",
      "  (output): Linear(in_features=24, out_features=1, bias=True)\n",
      "  (sigmoid): Sigmoid()\n",
      ")\n"
     ]
    }
   ],
   "source": [
    "# Creating/Loading the model\n",
    "if use_model:\n",
    "    model = torch.load(model_path)\n",
    "else:\n",
    "    model = nn.Sequential()\n",
    "    model.add_module(\"input\", nn.Linear(X_train.shape[1], h_nodes))\n",
    "    model.add_module(\"relu_1\", nn.ReLU())\n",
    "    for h in range(0, n_hidden):\n",
    "        model.add_module(f\"hidden_{h+1}\", nn.Linear(h_nodes, h_nodes))\n",
    "        model.add_module(f\"relu_{h+2}\", nn.ReLU())\n",
    "        model.add_module(f\"dropout_{h+1}\", nn.Dropout(p=0.1))\n",
    "    model.add_module(\"output\", nn.Linear(h_nodes, Y_train.shape[1]))\n",
    "    model.add_module(\"sigmoid\", nn.Sigmoid())\n",
    "print(model)"
   ]
  },
  {
   "cell_type": "code",
   "execution_count": 145,
   "metadata": {},
   "outputs": [],
   "source": [
    "# Define optimizer\n",
    "optimizer = optim.Adam(model.parameters(), lr=lr, weight_decay=1e-5)"
   ]
  },
  {
   "cell_type": "code",
   "execution_count": 146,
   "metadata": {},
   "outputs": [
    {
     "name": "stdout",
     "output_type": "stream",
     "text": [
      "Transferring model to GPU: NVIDIA GeForce RTX 2070 SUPER\n"
     ]
    }
   ],
   "source": [
    "# Transfer model to GPU if available\n",
    "if gpu_available and not use_cpu:\n",
    "\tprint(f\"Transferring model to GPU: {torch.cuda.get_device_name(0)}\")\n",
    "\tmodel = model.cuda()\n",
    "\tloss_fn = loss_fn.cuda()\n",
    "\n",
    "\t# Transfer validation data to GPU\n",
    "\tX_val = X_val.cuda()\n",
    "\tY_val = Y_val.cuda()"
   ]
  },
  {
   "cell_type": "markdown",
   "metadata": {},
   "source": [
    "## Training\n",
    "Now that the data and the network is set up, lets train the model! After training the model will be saved to a file so that you don't have to train it again if you want to use it for predictions in the future."
   ]
  },
  {
   "cell_type": "code",
   "execution_count": 147,
   "metadata": {},
   "outputs": [],
   "source": [
    "def accuracy(Y_pred, Y):\n",
    "\tY_pred = torch.round(Y_pred)\n",
    "\treturn (Y_pred == Y).sum().float() / len(Y_pred)"
   ]
  },
  {
   "cell_type": "code",
   "execution_count": 148,
   "metadata": {},
   "outputs": [
    {
     "name": "stdout",
     "output_type": "stream",
     "text": [
      "Finished epoch 0, latest loss 0.4402925968170166 val_loss 0.3276175558567047\n",
      "Finished epoch 1, latest loss 0.4183027148246765 val_loss 0.29604700207710266\n",
      "Finished epoch 2, latest loss 0.4599735140800476 val_loss 0.27601227164268494\n",
      "Finished epoch 3, latest loss 0.3932209014892578 val_loss 0.2683394253253937\n",
      "Finished epoch 4, latest loss 0.38253170251846313 val_loss 0.2653936743736267\n",
      "Finished epoch 5, latest loss 0.4599073529243469 val_loss 0.2602551281452179\n",
      "Finished epoch 6, latest loss 0.46415257453918457 val_loss 0.253945529460907\n",
      "Finished epoch 7, latest loss 0.27399516105651855 val_loss 0.25197532773017883\n",
      "Finished epoch 8, latest loss 0.3038358688354492 val_loss 0.24985122680664062\n",
      "Finished epoch 9, latest loss 0.3917029798030853 val_loss 0.2490270733833313\n",
      "Finished epoch 10, latest loss 0.393062949180603 val_loss 0.24545389413833618\n",
      "Finished epoch 11, latest loss 0.3127181828022003 val_loss 0.2440354973077774\n",
      "Early stopping at epoch 12\n"
     ]
    }
   ],
   "source": [
    "# Train the model\n",
    "losses = []\n",
    "v_losses = []\n",
    "if train:\n",
    "    for epoch in range(n_epochs):\n",
    "        for i in range(0, len(X_train), batch_size):\n",
    "            # Get batch\n",
    "            X_batch = X_train[i:i+batch_size]\n",
    "            Y_batch = Y_train[i:i+batch_size]\n",
    "\n",
    "            # Transfer to GPU if available\n",
    "            if gpu_available and not use_cpu:\n",
    "                X_batch = X_batch.cuda()\n",
    "                Y_batch = Y_batch.cuda()\n",
    "\n",
    "            # Feedforward\n",
    "            Y_pred = model(X_batch)\n",
    "\n",
    "            # Calculate loss\n",
    "            loss = loss_fn(Y_pred, Y_batch)\n",
    "\n",
    "            # Backpropagate error and update weights\n",
    "            optimizer.zero_grad()\n",
    "            loss.backward()\n",
    "            optimizer.step()\n",
    "\n",
    "        # Check validation loss\n",
    "        Y_pred = model(X_val)\n",
    "        with torch.no_grad():\n",
    "            val_loss = loss_fn(Y_pred, Y_val)\n",
    "\n",
    "            # Save loss\n",
    "            losses = losses + [loss.item()]\n",
    "            v_losses = v_losses + [val_loss.item()]\n",
    "\n",
    "        # Early stopping\n",
    "        if len(v_losses) >= early_stop+1:\n",
    "            # Check if validation loss hasn't improved for 'early_stop' epochs\n",
    "            stop = [False]*early_stop\n",
    "            for i in range(early_stop):\n",
    "                if v_losses[-1-i] >= v_losses[-2-i]:\n",
    "                    stop[i] = True\n",
    "\n",
    "            if all(stop):\n",
    "                print(f\"Early stopping at epoch {epoch}\")\n",
    "                break\n",
    "\n",
    "        # Print loss after each epoch\n",
    "        print(f'Finished epoch {epoch}, latest loss {loss} val_loss {val_loss}')\n"
   ]
  },
  {
   "cell_type": "code",
   "execution_count": 149,
   "metadata": {},
   "outputs": [
    {
     "data": {
      "image/png": "[encoded data removed]",
      "text/plain": [
       "<Figure size 640x480 with 1 Axes>"
      ]
     },
     "metadata": {},
     "output_type": "display_data"
    }
   ],
   "source": [
    "# Plot the loss on the training and validation sets\n",
    "plt.figure()\n",
    "plt.title(\"Loss\")\n",
    "plt.xlabel(\"Epoch\")\n",
    "plt.ylabel(\"Loss\")\n",
    "plt.plot(losses)\n",
    "plt.plot(v_losses)\n",
    "plt.legend([\"Training\", \"Validation\"], loc=\"upper right\")\n",
    "plt.show()"
   ]
  },
  {
   "cell_type": "code",
   "execution_count": 150,
   "metadata": {},
   "outputs": [],
   "source": [
    "# Save the model for future use\n",
    "torch.save(model, \"model.pt\")"
   ]
  },
  {
   "cell_type": "markdown",
   "metadata": {},
   "source": [
    "## Analysis (Keller feel free to move this elsewhere/remove. Do what ya gotta do)"
   ]
  },
  {
   "cell_type": "code",
   "execution_count": 151,
   "metadata": {},
   "outputs": [],
   "source": [
    "# Make predictions\n",
    "X_test = X_test.to(device)\n",
    "with torch.no_grad():\n",
    "    # Run the model on the test data and transfer the result to CPU\n",
    "    Y_pred = model(X_test).to(\"cpu\")"
   ]
  },
  {
   "cell_type": "code",
   "execution_count": 152,
   "metadata": {},
   "outputs": [
    {
     "name": "stdout",
     "output_type": "stream",
     "text": [
      "Accuracy 0.9057210683822632\n"
     ]
    }
   ],
   "source": [
    "# Calculate the accuracy\n",
    "accuracy = (Y_pred.round() == Y_test).float().mean()\n",
    "print(f\"Accuracy {accuracy}\")"
   ]
  },
  {
   "cell_type": "code",
   "execution_count": 153,
   "metadata": {},
   "outputs": [
    {
     "data": {
      "image/png": "[encoded data removed]",
      "text/plain": [
       "<Figure size 800x600 with 1 Axes>"
      ]
     },
     "metadata": {},
     "output_type": "display_data"
    }
   ],
   "source": [
    "# Plot the reliability diagram\n",
    "prob_true, prob_pred = calibration_curve(np.array(Y_test), np.array(Y_pred)[:, 0], n_bins=10)\n",
    "\n",
    "plt.figure(figsize=(8, 6))\n",
    "plt.plot(prob_pred, prob_true, 's-', label='Calibration curve')\n",
    "plt.plot([0, 1], [0, 1], color='gray', label='Ideal calibration')\n",
    "plt.xlabel('Predicted Probability')\n",
    "plt.ylabel('Fraction of Positives')\n",
    "plt.title('Reliability Diagram')\n",
    "plt.legend()\n",
    "plt.show()"
   ]
  }
 ],
 "metadata": {
  "kernelspec": {
   "display_name": "venv",
   "language": "python",
   "name": "python3"
  },
  "language_info": {
   "codemirror_mode": {
    "name": "ipython",
    "version": 3
   },
   "file_extension": ".py",
   "mimetype": "text/x-python",
   "name": "python",
   "nbconvert_exporter": "python",
   "pygments_lexer": "ipython3",
   "version": "3.10.11"
  }
 },
 "nbformat": 4,
 "nbformat_minor": 2
}
